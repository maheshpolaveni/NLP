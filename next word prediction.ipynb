{
 "cells": [
  {
   "cell_type": "code",
   "execution_count": 19,
   "id": "9e50aff0",
   "metadata": {},
   "outputs": [],
   "source": [
    "import numpy as np\n",
    "import tensorflow as tf\n",
    "from tensorflow.keras.preprocessing.text import Tokenizer\n",
    "from tensorflow.keras.preprocessing.sequence import pad_sequences\n",
    "from tensorflow.keras.models import Sequential\n",
    "from tensorflow.keras.layers import Embedding,LSTM,Dense"
   ]
  },
  {
   "cell_type": "code",
   "execution_count": 7,
   "id": "2e2505bb",
   "metadata": {},
   "outputs": [],
   "source": [
    "with open(r'C:\\Users\\Dell\\Downloads\\book\\sherlock-holm.es_stories_plain-text_advs.txt', 'r', encoding='utf-8') as file:\n",
    "    text = file.read()"
   ]
  },
  {
   "cell_type": "code",
   "execution_count": 8,
   "id": "2d7b776d",
   "metadata": {},
   "outputs": [],
   "source": [
    "tokenizer = Tokenizer()\n",
    "tokenizer.fit_on_texts([text])\n",
    "total_words = len(tokenizer.word_index) + 1"
   ]
  },
  {
   "cell_type": "code",
   "execution_count": 11,
   "id": "d2ab1173",
   "metadata": {},
   "outputs": [
    {
     "data": {
      "text/plain": [
       "8199"
      ]
     },
     "execution_count": 11,
     "metadata": {},
     "output_type": "execute_result"
    }
   ],
   "source": [
    "len(tokenizer.word_index)"
   ]
  },
  {
   "cell_type": "code",
   "execution_count": 12,
   "id": "eba79250",
   "metadata": {},
   "outputs": [],
   "source": [
    "input_sequences = []\n",
    "for line in text.split('\\n'):\n",
    "    token_list = tokenizer.texts_to_sequences([line])[0]\n",
    "    for i in range(1, len(token_list)):\n",
    "        n_gram_sequence = token_list[:i+1]\n",
    "        input_sequences.append(n_gram_sequence)"
   ]
  },
  {
   "cell_type": "code",
   "execution_count": 21,
   "id": "784ce1be",
   "metadata": {},
   "outputs": [],
   "source": [
    "max_sequence_len=max([len(seq) for seq in input_sequences])\n",
    "input_sequences=np.array(pad_sequences(input_sequences,maxlen=max_sequence_len,padding='pre'))"
   ]
  },
  {
   "cell_type": "code",
   "execution_count": 25,
   "id": "3375b528",
   "metadata": {},
   "outputs": [
    {
     "data": {
      "text/plain": [
       "array([[   0,    0,    0,    0,    0,    0,    0,    0,    0,    0,    0,\n",
       "           0,    0,    0,    0,    0,    1, 1561],\n",
       "       [   0,    0,    0,    0,    0,    0,    0,    0,    0,    0,    0,\n",
       "           0,    0,    0,    0,    1, 1561,    5]])"
      ]
     },
     "execution_count": 25,
     "metadata": {},
     "output_type": "execute_result"
    }
   ],
   "source": [
    "input_sequences[0:2]"
   ]
  },
  {
   "cell_type": "code",
   "execution_count": 26,
   "id": "3500d18b",
   "metadata": {},
   "outputs": [],
   "source": [
    "X = input_sequences[:, :-1]\n",
    "y = input_sequences[:, -1]"
   ]
  },
  {
   "cell_type": "code",
   "execution_count": 27,
   "id": "333ffaad",
   "metadata": {},
   "outputs": [
    {
     "data": {
      "text/plain": [
       "array([[   0,    0,    0, ...,    0,    0,    1],\n",
       "       [   0,    0,    0, ...,    0,    1, 1561],\n",
       "       [   0,    0,    0, ...,    1, 1561,    5],\n",
       "       ...,\n",
       "       [   0,    0,    0, ...,   28,    1, 8198],\n",
       "       [   0,    0,    0, ...,    1, 8198, 8199],\n",
       "       [   0,    0,    0, ..., 8198, 8199, 3187]])"
      ]
     },
     "execution_count": 27,
     "metadata": {},
     "output_type": "execute_result"
    }
   ],
   "source": [
    "X"
   ]
  },
  {
   "cell_type": "code",
   "execution_count": 32,
   "id": "0d89d076",
   "metadata": {},
   "outputs": [
    {
     "data": {
      "text/plain": [
       "array([1561,    5,  129,   34])"
      ]
     },
     "execution_count": 32,
     "metadata": {},
     "output_type": "execute_result"
    }
   ],
   "source": [
    "y[0:4]"
   ]
  },
  {
   "cell_type": "code",
   "execution_count": 33,
   "id": "7f5e1ed3",
   "metadata": {},
   "outputs": [],
   "source": [
    "y = np.array(tf.keras.utils.to_categorical(y, num_classes=total_words))"
   ]
  },
  {
   "cell_type": "code",
   "execution_count": 34,
   "id": "c1f679a9",
   "metadata": {},
   "outputs": [
    {
     "name": "stdout",
     "output_type": "stream",
     "text": [
      "Model: \"sequential\"\n",
      "_________________________________________________________________\n",
      "Layer (type)                 Output Shape              Param #   \n",
      "=================================================================\n",
      "embedding (Embedding)        (None, 17, 100)           820000    \n",
      "_________________________________________________________________\n",
      "lstm (LSTM)                  (None, 150)               150600    \n",
      "_________________________________________________________________\n",
      "dense (Dense)                (None, 8200)              1238200   \n",
      "=================================================================\n",
      "Total params: 2,208,800\n",
      "Trainable params: 2,208,800\n",
      "Non-trainable params: 0\n",
      "_________________________________________________________________\n",
      "None\n"
     ]
    }
   ],
   "source": [
    "model = Sequential()\n",
    "model.add(Embedding(total_words, 100, input_length=max_sequence_len-1))\n",
    "model.add(LSTM(150))\n",
    "model.add(Dense(total_words, activation='softmax'))\n",
    "print(model.summary())"
   ]
  },
  {
   "cell_type": "code",
   "execution_count": 35,
   "id": "210d239c",
   "metadata": {},
   "outputs": [
    {
     "name": "stdout",
     "output_type": "stream",
     "text": [
      "Epoch 1/100\n",
      "3010/3010 [==============================] - 132s 43ms/step - loss: 6.2342 - accuracy: 0.0761\n",
      "Epoch 2/100\n",
      "3010/3010 [==============================] - 124s 41ms/step - loss: 5.5043 - accuracy: 0.1242\n",
      "Epoch 3/100\n",
      "3010/3010 [==============================] - 120s 40ms/step - loss: 5.1195 - accuracy: 0.1470\n",
      "Epoch 4/100\n",
      "3010/3010 [==============================] - 120s 40ms/step - loss: 4.7944 - accuracy: 0.1655\n",
      "Epoch 5/100\n",
      "3010/3010 [==============================] - 133s 44ms/step - loss: 4.4936 - accuracy: 0.1813\n",
      "Epoch 6/100\n",
      "3010/3010 [==============================] - 121s 40ms/step - loss: 4.2135 - accuracy: 0.2006\n",
      "Epoch 7/100\n",
      "3010/3010 [==============================] - 132s 44ms/step - loss: 3.9497 - accuracy: 0.2248s - loss: 3.9497 - accuracy\n",
      "Epoch 8/100\n",
      "3010/3010 [==============================] - 119s 39ms/step - loss: 3.6970 - accuracy: 0.2522\n",
      "Epoch 9/100\n",
      "3010/3010 [==============================] - 117s 39ms/step - loss: 3.4584 - accuracy: 0.2851\n",
      "Epoch 10/100\n",
      "3010/3010 [==============================] - 115s 38ms/step - loss: 3.2351 - accuracy: 0.3202\n",
      "Epoch 11/100\n",
      "3010/3010 [==============================] - 118s 39ms/step - loss: 3.0275 - accuracy: 0.3540\n",
      "Epoch 12/100\n",
      "3010/3010 [==============================] - 117s 39ms/step - loss: 2.8353 - accuracy: 0.3882\n",
      "Epoch 13/100\n",
      "3010/3010 [==============================] - 118s 39ms/step - loss: 2.6568 - accuracy: 0.4205\n",
      "Epoch 14/100\n",
      "3010/3010 [==============================] - 118s 39ms/step - loss: 2.4943 - accuracy: 0.4518\n",
      "Epoch 15/100\n",
      "3010/3010 [==============================] - 118s 39ms/step - loss: 2.3413 - accuracy: 0.4839\n",
      "Epoch 16/100\n",
      "3010/3010 [==============================] - 118s 39ms/step - loss: 2.2044 - accuracy: 0.5118\n",
      "Epoch 17/100\n",
      "3010/3010 [==============================] - 117s 39ms/step - loss: 2.0778 - accuracy: 0.5374\n",
      "Epoch 18/100\n",
      "3010/3010 [==============================] - 118s 39ms/step - loss: 1.9604 - accuracy: 0.5617\n",
      "Epoch 19/100\n",
      "3010/3010 [==============================] - 121s 40ms/step - loss: 1.8535 - accuracy: 0.5829\n",
      "Epoch 20/100\n",
      "3010/3010 [==============================] - 117s 39ms/step - loss: 1.7575 - accuracy: 0.6046\n",
      "Epoch 21/100\n",
      "3010/3010 [==============================] - 116s 38ms/step - loss: 1.6647 - accuracy: 0.6230\n",
      "Epoch 22/100\n",
      "3010/3010 [==============================] - 119s 39ms/step - loss: 1.5827 - accuracy: 0.6412\n",
      "Epoch 23/100\n",
      "3010/3010 [==============================] - 119s 40ms/step - loss: 1.5070 - accuracy: 0.6567\n",
      "Epoch 24/100\n",
      "3010/3010 [==============================] - 118s 39ms/step - loss: 1.4359 - accuracy: 0.6737\n",
      "Epoch 25/100\n",
      "3010/3010 [==============================] - 117s 39ms/step - loss: 1.3706 - accuracy: 0.6881\n",
      "Epoch 26/100\n",
      "3010/3010 [==============================] - 118s 39ms/step - loss: 1.3116 - accuracy: 0.7006\n",
      "Epoch 27/100\n",
      "3010/3010 [==============================] - 115s 38ms/step - loss: 1.2565 - accuracy: 0.7131\n",
      "Epoch 28/100\n",
      "3010/3010 [==============================] - 124s 41ms/step - loss: 1.2060 - accuracy: 0.7232\n",
      "Epoch 29/100\n",
      "3010/3010 [==============================] - 117s 39ms/step - loss: 1.1593 - accuracy: 0.7334\n",
      "Epoch 30/100\n",
      "3010/3010 [==============================] - 116s 38ms/step - loss: 1.1141 - accuracy: 0.7451\n",
      "Epoch 31/100\n",
      "3010/3010 [==============================] - 121s 40ms/step - loss: 1.0747 - accuracy: 0.7526\n",
      "Epoch 32/100\n",
      "3010/3010 [==============================] - 120s 40ms/step - loss: 1.0342 - accuracy: 0.7619\n",
      "Epoch 33/100\n",
      "3010/3010 [==============================] - 116s 39ms/step - loss: 1.0007 - accuracy: 0.7695\n",
      "Epoch 34/100\n",
      "3010/3010 [==============================] - 117s 39ms/step - loss: 0.9675 - accuracy: 0.7764\n",
      "Epoch 35/100\n",
      "3010/3010 [==============================] - 119s 40ms/step - loss: 0.9401 - accuracy: 0.7826\n",
      "Epoch 36/100\n",
      "3010/3010 [==============================] - 124s 41ms/step - loss: 0.9098 - accuracy: 0.7891\n",
      "Epoch 37/100\n",
      "3010/3010 [==============================] - 123s 41ms/step - loss: 0.8843 - accuracy: 0.7947s - los - ETA\n",
      "Epoch 38/100\n",
      "3010/3010 [==============================] - 119s 40ms/step - loss: 0.8601 - accuracy: 0.7995\n",
      "Epoch 39/100\n",
      "3010/3010 [==============================] - 118s 39ms/step - loss: 0.8373 - accuracy: 0.8041\n",
      "Epoch 40/100\n",
      "3010/3010 [==============================] - 117s 39ms/step - loss: 0.8149 - accuracy: 0.8105\n",
      "Epoch 41/100\n",
      "3010/3010 [==============================] - 118s 39ms/step - loss: 0.7938 - accuracy: 0.8143\n",
      "Epoch 42/100\n",
      "3010/3010 [==============================] - 117s 39ms/step - loss: 0.7800 - accuracy: 0.8169\n",
      "Epoch 43/100\n",
      "3010/3010 [==============================] - 123s 41ms/step - loss: 0.7614 - accuracy: 0.8212\n",
      "Epoch 44/100\n",
      "3010/3010 [==============================] - 116s 39ms/step - loss: 0.7461 - accuracy: 0.8235\n",
      "Epoch 45/100\n",
      "3010/3010 [==============================] - 119s 39ms/step - loss: 0.7308 - accuracy: 0.8275\n",
      "Epoch 46/100\n",
      "3010/3010 [==============================] - 123s 41ms/step - loss: 0.7178 - accuracy: 0.8304\n",
      "Epoch 47/100\n",
      "3010/3010 [==============================] - 119s 40ms/step - loss: 0.7061 - accuracy: 0.8323\n",
      "Epoch 48/100\n",
      "3010/3010 [==============================] - 121s 40ms/step - loss: 0.6910 - accuracy: 0.8369\n",
      "Epoch 49/100\n",
      "3010/3010 [==============================] - 121s 40ms/step - loss: 0.6830 - accuracy: 0.8370\n",
      "Epoch 50/100\n",
      "3010/3010 [==============================] - 121s 40ms/step - loss: 0.6689 - accuracy: 0.8393\n",
      "Epoch 51/100\n",
      "3010/3010 [==============================] - 123s 41ms/step - loss: 0.6618 - accuracy: 0.8420s - loss:\n",
      "Epoch 52/100\n",
      "3010/3010 [==============================] - 151s 50ms/step - loss: 0.6509 - accuracy: 0.8426\n",
      "Epoch 53/100\n",
      "3010/3010 [==============================] - 135s 45ms/step - loss: 0.6420 - accuracy: 0.8447 0s - loss: 0.6421 - \n",
      "Epoch 54/100\n",
      "3010/3010 [==============================] - 113s 38ms/step - loss: 0.6337 - accuracy: 0.8476\n",
      "Epoch 55/100\n",
      "3010/3010 [==============================] - 116s 38ms/step - loss: 0.6272 - accuracy: 0.8488\n",
      "Epoch 56/100\n",
      "3010/3010 [==============================] - 113s 37ms/step - loss: 0.6188 - accuracy: 0.8502\n",
      "Epoch 57/100\n",
      "3010/3010 [==============================] - 113s 37ms/step - loss: 0.6115 - accuracy: 0.8514\n",
      "Epoch 58/100\n",
      "3010/3010 [==============================] - 112s 37ms/step - loss: 0.6087 - accuracy: 0.8511\n",
      "Epoch 59/100\n",
      "3010/3010 [==============================] - 112s 37ms/step - loss: 0.5992 - accuracy: 0.8531\n",
      "Epoch 60/100\n",
      "3010/3010 [==============================] - 112s 37ms/step - loss: 0.5972 - accuracy: 0.8541\n",
      "Epoch 61/100\n",
      "3010/3010 [==============================] - 113s 37ms/step - loss: 0.5850 - accuracy: 0.8570\n",
      "Epoch 62/100\n",
      "3010/3010 [==============================] - 118s 39ms/step - loss: 0.5872 - accuracy: 0.8555\n",
      "Epoch 63/100\n",
      "3010/3010 [==============================] - 154s 51ms/step - loss: 0.5852 - accuracy: 0.8545\n",
      "Epoch 64/100\n",
      "3010/3010 [==============================] - 130s 43ms/step - loss: 0.5754 - accuracy: 0.8575\n",
      "Epoch 65/100\n",
      "3010/3010 [==============================] - 137s 46ms/step - loss: 0.5671 - accuracy: 0.8603\n",
      "Epoch 66/100\n",
      "3010/3010 [==============================] - 121s 40ms/step - loss: 0.5704 - accuracy: 0.8584\n",
      "Epoch 67/100\n",
      "3010/3010 [==============================] - 118s 39ms/step - loss: 0.5634 - accuracy: 0.8596\n",
      "Epoch 68/100\n",
      "3010/3010 [==============================] - 116s 39ms/step - loss: 0.5564 - accuracy: 0.8626\n",
      "Epoch 69/100\n",
      "3010/3010 [==============================] - 116s 39ms/step - loss: 0.5572 - accuracy: 0.8605\n",
      "Epoch 70/100\n",
      "3010/3010 [==============================] - 119s 39ms/step - loss: 0.5521 - accuracy: 0.8618\n",
      "Epoch 71/100\n",
      "3010/3010 [==============================] - 117s 39ms/step - loss: 0.5490 - accuracy: 0.8626\n",
      "Epoch 72/100\n",
      "3010/3010 [==============================] - 116s 39ms/step - loss: 0.5482 - accuracy: 0.8624\n",
      "Epoch 73/100\n",
      "3010/3010 [==============================] - 124s 41ms/step - loss: 0.5480 - accuracy: 0.8614\n",
      "Epoch 74/100\n",
      "3010/3010 [==============================] - 126s 42ms/step - loss: 0.5477 - accuracy: 0.8619\n",
      "Epoch 75/100\n",
      "3010/3010 [==============================] - 126s 42ms/step - loss: 0.5405 - accuracy: 0.8632\n",
      "Epoch 76/100\n"
     ]
    },
    {
     "name": "stdout",
     "output_type": "stream",
     "text": [
      "3010/3010 [==============================] - 122s 41ms/step - loss: 0.5388 - accuracy: 0.8638\n",
      "Epoch 77/100\n",
      "3010/3010 [==============================] - 119s 39ms/step - loss: 0.5366 - accuracy: 0.8639\n",
      "Epoch 78/100\n",
      "3010/3010 [==============================] - 121s 40ms/step - loss: 0.5295 - accuracy: 0.8661\n",
      "Epoch 79/100\n",
      "3010/3010 [==============================] - 120s 40ms/step - loss: 0.5332 - accuracy: 0.8644\n",
      "Epoch 80/100\n",
      "3010/3010 [==============================] - 120s 40ms/step - loss: 0.5300 - accuracy: 0.8647\n",
      "Epoch 81/100\n",
      "3010/3010 [==============================] - 125s 42ms/step - loss: 0.5259 - accuracy: 0.8663\n",
      "Epoch 82/100\n",
      "3010/3010 [==============================] - 122s 40ms/step - loss: 0.5250 - accuracy: 0.8653\n",
      "Epoch 83/100\n",
      "3010/3010 [==============================] - 122s 40ms/step - loss: 0.5251 - accuracy: 0.8657\n",
      "Epoch 84/100\n",
      "3010/3010 [==============================] - 129s 43ms/step - loss: 0.5209 - accuracy: 0.8660\n",
      "Epoch 85/100\n",
      "3010/3010 [==============================] - 125s 41ms/step - loss: 0.5186 - accuracy: 0.8676\n",
      "Epoch 86/100\n",
      "3010/3010 [==============================] - 122s 40ms/step - loss: 0.5216 - accuracy: 0.8659\n",
      "Epoch 87/100\n",
      "3010/3010 [==============================] - 122s 40ms/step - loss: 0.5203 - accuracy: 0.8655\n",
      "Epoch 88/100\n",
      "3010/3010 [==============================] - 122s 40ms/step - loss: 0.5173 - accuracy: 0.8667\n",
      "Epoch 89/100\n",
      "3010/3010 [==============================] - 125s 41ms/step - loss: 0.5144 - accuracy: 0.8671\n",
      "Epoch 90/100\n",
      "3010/3010 [==============================] - 129s 43ms/step - loss: 0.5199 - accuracy: 0.8656\n",
      "Epoch 91/100\n",
      "3010/3010 [==============================] - 128s 42ms/step - loss: 0.5133 - accuracy: 0.8666\n",
      "Epoch 92/100\n",
      "3010/3010 [==============================] - 138s 46ms/step - loss: 0.5156 - accuracy: 0.8668\n",
      "Epoch 93/100\n",
      "3010/3010 [==============================] - 143s 48ms/step - loss: 0.5132 - accuracy: 0.8670\n",
      "Epoch 94/100\n",
      "3010/3010 [==============================] - 156s 52ms/step - loss: 0.5103 - accuracy: 0.8681\n",
      "Epoch 95/100\n",
      "3010/3010 [==============================] - 141s 47ms/step - loss: 0.5093 - accuracy: 0.8674\n",
      "Epoch 96/100\n",
      "3010/3010 [==============================] - 122s 40ms/step - loss: 0.5068 - accuracy: 0.8685\n",
      "Epoch 97/100\n",
      "3010/3010 [==============================] - 122s 40ms/step - loss: 0.5092 - accuracy: 0.8673\n",
      "Epoch 98/100\n",
      "3010/3010 [==============================] - 123s 41ms/step - loss: 0.5069 - accuracy: 0.8677\n",
      "Epoch 99/100\n",
      "3010/3010 [==============================] - 122s 40ms/step - loss: 0.5122 - accuracy: 0.8659\n",
      "Epoch 100/100\n",
      "3010/3010 [==============================] - 122s 40ms/step - loss: 0.5055 - accuracy: 0.8676\n"
     ]
    },
    {
     "data": {
      "text/plain": [
       "<keras.callbacks.History at 0x221e4292af0>"
      ]
     },
     "execution_count": 35,
     "metadata": {},
     "output_type": "execute_result"
    }
   ],
   "source": [
    "model.compile(loss='categorical_crossentropy', optimizer='adam', metrics=['accuracy'])\n",
    "model.fit(X, y, epochs=100, verbose=1)"
   ]
  },
  {
   "cell_type": "code",
   "execution_count": 36,
   "id": "d1d70ab5",
   "metadata": {},
   "outputs": [
    {
     "name": "stdout",
     "output_type": "stream",
     "text": [
      "From time to time i heard what was yourself about to the\n"
     ]
    }
   ],
   "source": [
    "#some vague account of his doings\n",
    "seed_text = \"From time to time i heard\"\n",
    "next_words = 6\n",
    "\n",
    "for _ in range(next_words):\n",
    "    token_list = tokenizer.texts_to_sequences([seed_text])[0]\n",
    "    token_list = pad_sequences([token_list], maxlen=max_sequence_len-1, padding='pre')\n",
    "    predicted = np.argmax(model.predict(token_list), axis=-1)\n",
    "    output_word = \"\"\n",
    "    for word, index in tokenizer.word_index.items():\n",
    "        if index == predicted:\n",
    "            output_word = word\n",
    "            break\n",
    "    seed_text += \" \" + output_word\n",
    "\n",
    "print(seed_text)"
   ]
  },
  {
   "cell_type": "code",
   "execution_count": null,
   "id": "24764ba8",
   "metadata": {},
   "outputs": [],
   "source": []
  }
 ],
 "metadata": {
  "kernelspec": {
   "display_name": "Python 3 (ipykernel)",
   "language": "python",
   "name": "python3"
  },
  "language_info": {
   "codemirror_mode": {
    "name": "ipython",
    "version": 3
   },
   "file_extension": ".py",
   "mimetype": "text/x-python",
   "name": "python",
   "nbconvert_exporter": "python",
   "pygments_lexer": "ipython3",
   "version": "3.9.12"
  }
 },
 "nbformat": 4,
 "nbformat_minor": 5
}
